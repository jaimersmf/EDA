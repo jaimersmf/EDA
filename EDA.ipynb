{
 "cells": [
  {
   "cell_type": "markdown",
   "id": "5136d445",
   "metadata": {},
   "source": [
    "# Análisis de Municipios en España para Determinar el Mejor Lugar para Vivir\n",
    "\n",
    "## Introducción\n",
    "\n",
    "El objetivo de este análisis es determinar cuáles son los mejores municipios en España para vivir, teniendo en cuenta varios factores clave:\n",
    "\n",
    "1. **Renta Neta Media por Municipio**: Evaluar la capacidad económica de los residentes.\n",
    "2. **Gastos en Comida**: Estimar el coste de vida en términos de alimentación.\n",
    "3. **Precio de Alquiler**: Analizar el coste del alquiler de viviendas.\n",
    "4. **Número de Empresas por Municipio**: Considerar las oportunidades laborales disponibles.\n",
    "\n",
    "## Análisis y Resultados\n",
    "\n",
    "Una vez que los datos estén limpios, se procederá con el análisis para identificar los municipios que ofrecen las mejores condiciones para vivir según los criterios mencionados. Se calcularán indicadores clave y se compararán los municipios para tomar una decisión informada.\n",
    "\n",
    "## Conclusión\n",
    "\n",
    "El análisis proporcionará una visión clara de cuáles son los mejores municipios en España para vivir, teniendo en cuenta la renta neta, el coste de vida y las oportunidades laborales.\n",
    "\n",
    "---\n",
    "\n",
    "**Nota**: Este notebook está diseñado para ser ejecutado en un entorno local o en una plataforma de notebooks como Jupyter. Asegúrate de ajustar las rutas de los archivos según sea necesario.\n"
   ]
  },
  {
   "cell_type": "markdown",
   "id": "e83f6773",
   "metadata": {},
   "source": [
    "## Preprocesamiento de Datos - Archivo \"precio alquiler compartido\"\n",
    "\n",
    "Dado que los datos pueden contener valores faltantes (NaN), el primer paso será preprocesar los datos para asegurar su calidad. En este notebook, se realizarán las siguientes tareas de preprocesamiento:\n",
    "\n",
    "1. **Lectura de Datos**: Cargar los archivos CSV que contienen la información necesaria.\n",
    "2. **Relleno de Valores Faltantes**: Para los datos faltantes en la columna de precio de alquiler compartido, se calculará la media de los valores disponibles para el mismo municipio y se rellenarán los valores faltantes con esta media.\n",
    "3. **Guardado de Datos Limpios**: Guardar los datos preprocesados en nuevos archivos CSV para su uso posterior. (Se mantiene el original para comprobar el correcto funcionamiento y tenerlo como backup para saber si se ha cometido alguna errata en el preprocesado)"
   ]
  },
  {
   "cell_type": "code",
   "execution_count": 3,
   "id": "83df0c3f",
   "metadata": {},
   "outputs": [
    {
     "name": "stdout",
     "output_type": "stream",
     "text": [
      "       NPRO  CUMUN       NMUN  ALQTBID12_M_VC_11\n",
      "0  Albacete   2001  Abengibre                NaN\n",
      "1  Albacete   2002     Alatoz                NaN\n",
      "2  Albacete   2003   Albacete              450.0\n",
      "3  Albacete   2004   Albatana                NaN\n",
      "4  Albacete   2005    Alborea                NaN\n",
      "       NPRO  CUMUN       NMUN  ALQTBID12_M_VC_11\n",
      "0  Albacete   2001  Abengibre         282.571429\n",
      "1  Albacete   2002     Alatoz         282.571429\n",
      "2  Albacete   2003   Albacete         450.000000\n",
      "3  Albacete   2004   Albatana         282.571429\n",
      "4  Albacete   2005    Alborea         282.571429\n",
      "Proceso completado. El archivo limpio ha sido guardado en: Preprocesados/precio_alquiler_compartido_preprocesado.csv\n"
     ]
    }
   ],
   "source": [
    "import pandas as pd\n",
    "\n",
    "# Leer el archivo CSV\n",
    "file_path = 'precio alquiler compartido.csv'\n",
    "data = pd.read_csv(file_path, delimiter=';')\n",
    "\n",
    "# Mostrar las primeras filas del DataFrame para verificar la carga de datos\n",
    "print(data.head())\n",
    "\n",
    "# Calcular la media de los valores disponibles para cada municipio (NPRO)\n",
    "mean_values = data.groupby('NPRO')['ALQTBID12_M_VC_11'].transform('mean')\n",
    "\n",
    "# Rellenar los valores faltantes con la media calculada\n",
    "data['ALQTBID12_M_VC_11'].fillna(mean_values, inplace=True)\n",
    "\n",
    "# Mostrar las primeras filas del DataFrame después de rellenar los valores faltantes\n",
    "print(data.head())\n",
    "\n",
    "# Guardar el DataFrame modificado en un nuevo archivo CSV\n",
    "output_file_path = 'Preprocesados/precio_alquiler_compartido_preprocesado.csv'\n",
    "data.to_csv(output_file_path, index=False, sep=';')\n",
    "\n",
    "print(\"Proceso completado. El archivo limpio ha sido guardado en:\", output_file_path)\n"
   ]
  },
  {
   "cell_type": "markdown",
   "id": "74c4e112",
   "metadata": {},
   "source": [
    "## Preprocesamiento de Datos - Archivo \"empresas por municipio\"\n",
    "\n",
    "Dado que los datos pueden contener valores faltantes (en este caso vienen rellenados con \".\"), el primer paso será preprocesar los datos para asegurar su calidad. En este notebook, se realizarán las siguientes tareas de preprocesamiento:\n",
    "\n",
    "1. **Lectura de Datos**: Cargar los archivos CSV que contienen la información necesaria.\n",
    "2. **Relleno de Valores Faltantes**: Para los datos faltantes en la columna \"Total\" correspondiente al Nº total de empresas por municipio, 1º se sustitullen los valores nulos, en este caso dados en \".\" por NaN para manejar mejor (que no quiere decir que sean 0 sino que no se dispone del valor). 2º Se han rellenado los valores faltantes con interpolacion lineal para los casos en los que existia un historico. 3º Se ha realizado un \"bfill\" y un \"ffill\" porque en algunos casos la interpolación dejaba los datos de las esquinas (primer y ultimo dato) vacios. 4º Se ha realizado un redondeo porque no existen medias empresas. \n",
    "3. **Guardado de Datos Limpios**: Guardar los datos preprocesados en nuevos archivos CSV para su uso posterior. (Se mantiene el original para comprobar el correcto funcionamiento y tenerlo como backup para saber si se ha cometido alguna errata en el preprocesado)"
   ]
  },
  {
   "cell_type": "code",
   "execution_count": 14,
   "id": "5bc343fa",
   "metadata": {},
   "outputs": [
    {
     "name": "stdout",
     "output_type": "stream",
     "text": [
      "               Municipios  Periodo Total\n",
      "0  01001 Alegría-Dulantzi     2024   148\n",
      "1  01001 Alegría-Dulantzi     2023   150\n",
      "2  01001 Alegría-Dulantzi     2022   154\n",
      "3  01001 Alegría-Dulantzi     2021   169\n",
      "4  01001 Alegría-Dulantzi     2020   155\n",
      "                                      Municipios  Periodo  Total\n",
      "Municipios                                                      \n",
      "01001 Alegría-Dulantzi 0  01001 Alegría-Dulantzi     2024  148.0\n",
      "                       1  01001 Alegría-Dulantzi     2023  150.0\n",
      "                       2  01001 Alegría-Dulantzi     2022  154.0\n",
      "                       3  01001 Alegría-Dulantzi     2021  169.0\n",
      "                       4  01001 Alegría-Dulantzi     2020  155.0\n",
      "Proceso completado. El archivo limpio ha sido guardado en: Preprocesados/empresas_por_municipio_limpio.csv\n"
     ]
    }
   ],
   "source": [
    "import pandas as pd\n",
    "import numpy as np\n",
    "\n",
    "# Leer el archivo CSV\n",
    "file_path = 'empresas por municipio.csv'\n",
    "data = pd.read_csv(file_path, delimiter=';')\n",
    "\n",
    "# Mostrar las primeras filas del DataFrame para verificar la carga de datos\n",
    "print(data.head())\n",
    "\n",
    "# Reemplazar los valores \".\" por NaN para facilitar el procesamiento\n",
    "data.replace('.', np.nan, inplace=True)\n",
    "\n",
    "# Convertir la columna 'Total' a tipo numérico\n",
    "data['Total'] = pd.to_numeric(data['Total'], errors='coerce')\n",
    "\n",
    "# Función para rellenar valores faltantes utilizando interpolación lineal y redondeo\n",
    "def fill_missing_values(group):\n",
    "    # Interpolación lineal para rellenar valores faltantes\n",
    "    group['Total'] = group['Total'].interpolate(method='linear', limit_direction='both')\n",
    "    # Rellenar valores faltantes al principio y al final con el valor más cercano disponible\n",
    "    group['Total'] = group['Total'].fillna(method='bfill').fillna(method='ffill')\n",
    "    # Redondear los valores interpolados y convertir a entero\n",
    "    group['Total'] = group['Total'].round()\n",
    "    return group\n",
    "\n",
    "# Aplicar la función a cada grupo de municipios\n",
    "data = data.groupby('Municipios').apply(fill_missing_values)\n",
    "\n",
    "# Mostrar las primeras filas del DataFrame después de rellenar los valores faltantes\n",
    "print(data.head())\n",
    "\n",
    "# Guardar el DataFrame modificado en un nuevo archivo CSV\n",
    "output_file_path = 'Preprocesados/empresas_por_municipio_limpio.csv'\n",
    "data.to_csv(output_file_path, index=False, sep=';')\n",
    "\n",
    "print(\"Proceso completado. El archivo limpio ha sido guardado en:\", output_file_path)\n"
   ]
  },
  {
   "cell_type": "markdown",
   "id": "8a064b2c",
   "metadata": {},
   "source": [
    "## Preprocesamiento de Datos - Archivo \"renta neta municipios\"\n",
    "\n",
    "Dado que los datos pueden contener valores faltantes (en este caso vienen rellenados con \".\"), el primer paso será preprocesar los datos para asegurar su calidad. En este notebook, se realizarán las siguientes tareas de preprocesamiento:\n",
    "\n",
    "1. **Lectura de Datos**: Cargar los archivos CSV que contienen la información necesaria.\n",
    "2. **Relleno de Valores Faltantes**: Para los datos faltantes en la columna \"Total\" correspondiente a la renta per cápita por municipio, 1º se sustitullen los valores nulos, en este caso dados en \".\" por NaN para manejar mejor (que no quiere decir que sean 0 sino que no se dispone del valor). 2º Se han rellenado los valores faltantes con interpolacion lineal para los casos en los que existia un historico. 3º Se ha realizado un \"bfill\" y un \"ffill\" porque en algunos casos la interpolación dejaba los datos de las esquinas (primer y ultimo dato) vacios. 4º Se ha realizado un redondeo a dos decimales porque por debajo de los centimos no existe valor. \n",
    "3. **Guardado de Datos Limpios**: Guardar los datos preprocesados en nuevos archivos CSV para su uso posterior. (Se mantiene el original para comprobar el correcto funcionamiento y tenerlo como backup para saber si se ha cometido alguna errata en el preprocesado)"
   ]
  },
  {
   "cell_type": "code",
   "execution_count": 19,
   "id": "96cbe38e",
   "metadata": {},
   "outputs": [
    {
     "name": "stdout",
     "output_type": "stream",
     "text": [
      "        Municipios  Periodo     Total\n",
      "0  02001 Abengibre     2022  13.063,0\n",
      "1  02001 Abengibre     2021  12.188,0\n",
      "2  02001 Abengibre     2020  11.675,0\n",
      "3  02001 Abengibre     2019  11.132,0\n",
      "4  02001 Abengibre     2018  10.854,0\n",
      "                                         Municipios  Periodo    Total\n",
      "Municipios                                                           \n",
      "01001 Alegría-Dulantzi 2656  01001 Alegría-Dulantzi     2022  15116.0\n",
      "                       2657  01001 Alegría-Dulantzi     2021  14647.0\n",
      "                       2658  01001 Alegría-Dulantzi     2020  13969.0\n",
      "                       2659  01001 Alegría-Dulantzi     2019  14299.0\n",
      "                       2660  01001 Alegría-Dulantzi     2018  13361.0\n",
      "Proceso completado. El archivo limpio ha sido guardado en: Preprocesados/renta_neta_municipios_limpio.csv\n"
     ]
    }
   ],
   "source": [
    "import pandas as pd\n",
    "import numpy as np\n",
    "\n",
    "# Leer el archivo CSV\n",
    "file_path = 'renta neta municipios.csv'\n",
    "data = pd.read_csv(file_path, delimiter=';')\n",
    "\n",
    "# Mostrar las primeras filas del DataFrame para verificar la carga de datos\n",
    "print(data.head())\n",
    "\n",
    "# Reemplazar los valores \".\" por NaN para facilitar el procesamiento\n",
    "data.replace('.', np.nan, inplace=True)\n",
    "\n",
    "# Función para convertir valores en formato español a numérico\n",
    "def convert_to_numeric(value):\n",
    "    if pd.isna(value):\n",
    "        return np.nan\n",
    "    return float(value.replace('.', '').replace(',', '.'))\n",
    "\n",
    "# Aplicar la función a la columna 'Total'\n",
    "data['Total'] = data['Total'].apply(convert_to_numeric)\n",
    "\n",
    "# Función para rellenar valores faltantes utilizando interpolación lineal\n",
    "def fill_missing_values(group):\n",
    "    # Interpolación lineal para rellenar valores faltantes\n",
    "    group['Total'] = group['Total'].interpolate(method='linear', limit_direction='both')\n",
    "    # Rellenar valores faltantes al principio y al final con el valor más cercano disponible\n",
    "    group['Total'] = group['Total'].fillna(method='bfill').fillna(method='ffill')\n",
    "    # Redondear los valores interpolados\n",
    "    group['Total'] = group['Total'].round(2)\n",
    "    return group\n",
    "\n",
    "# Aplicar la función a cada grupo de municipios\n",
    "data = data.groupby('Municipios').apply(fill_missing_values)\n",
    "\n",
    "# Mostrar las primeras filas del DataFrame después de rellenar los valores faltantes\n",
    "print(data.head())\n",
    "\n",
    "# Guardar el DataFrame modificado en un nuevo archivo CSV\n",
    "output_file_path = 'Preprocesados/renta_neta_municipios_limpio.csv'\n",
    "data.to_csv(output_file_path, index=False, sep=';')\n",
    "\n",
    "print(\"Proceso completado. El archivo limpio ha sido guardado en:\", output_file_path)\n"
   ]
  }
 ],
 "metadata": {
  "kernelspec": {
   "display_name": "Python 3",
   "language": "python",
   "name": "python3"
  },
  "language_info": {
   "codemirror_mode": {
    "name": "ipython",
    "version": 3
   },
   "file_extension": ".py",
   "mimetype": "text/x-python",
   "name": "python",
   "nbconvert_exporter": "python",
   "pygments_lexer": "ipython3",
   "version": "3.9.13"
  }
 },
 "nbformat": 4,
 "nbformat_minor": 5
}
